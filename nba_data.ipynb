{
  "nbformat": 4,
  "nbformat_minor": 0,
  "metadata": {
    "colab": {
      "name": "nba_data.ipynb",
      "provenance": []
    },
    "kernelspec": {
      "name": "python3",
      "display_name": "Python 3"
    },
    "language_info": {
      "name": "python"
    }
  },
  "cells": [
    {
      "cell_type": "code",
      "execution_count": null,
      "metadata": {
        "id": "fr29QykiN1LJ"
      },
      "outputs": [],
      "source": [
        "import time\n",
        "import pandas as pd\n",
        "from urllib.request import Request, urlopen\n",
        "import requests\n",
        "import json\n",
        "from google.colab import files"
      ]
    },
    {
      "cell_type": "code",
      "source": [
        "i = 11790-1000\n",
        "stats_data_all= []\n",
        "url = \"https://free-nba.p.rapidapi.com/stats\"\n",
        "headers = {\n",
        "\t\"X-RapidAPI-Host\": \"free-nba.p.rapidapi.com\",\n",
        "\t\"X-RapidAPI-Key\": \"0ff41896dfmsh31e56cc81868001p1b36c9jsna508e5176b9b\"\n",
        "}\n",
        "while i < 11791:#in the time i downloaded their were 11777 pages\n",
        "    querystring = {\"page\": str(i), \"per_page\":\"100\"}\n",
        "    response = requests.request(\"GET\", url, headers=headers, params=querystring)\n",
        "    if response.status_code == 429:#if there is an error because the amount of requests wait\n",
        "        time.sleep(45)\n",
        "        if response.status_code == 200: #if the request is valid\n",
        "            stats_data_all.append(json.loads(response.text))\n",
        "            i += 1\n",
        "    else: \n",
        "        if response.status_code == 200: #if the request is valid\n",
        "            stats_data_all.append(json.loads(response.text))\n",
        "            i += 1\n",
        "stats_data_all = pd.DataFrame.from_records(stats_data_all)"
      ],
      "metadata": {
        "id": "OYIek7DZ-F-6"
      },
      "execution_count": null,
      "outputs": []
    },
    {
      "cell_type": "code",
      "source": [
        "dataframes=[]\n",
        "for current_object in stats_data_all['data']:\n",
        "    dataframes.append(pd.json_normalize(current_object, sep=' ',max_level=2))\n",
        "mergedDF_nba=pd.concat(dataframes)"
      ],
      "metadata": {
        "id": "y9RDbCUU_2iH"
      },
      "execution_count": null,
      "outputs": []
    },
    {
      "cell_type": "code",
      "source": [
        "mergedDF_nba.rename(columns= {\"ast\": \"player_assists\",\"blk\":\"player_blocks\",\"dreb\":\"player_defensive_rebounds\",\"fg3_pct\":\"player_field_three_pointer_percentage\",\"fg3a\":\"player_field_three_pointers_attempted\",\"fg3m\":\"player_field_three_pointers_made\",\"fg_pct\":\"player_field_goals_percentage\",\"fga\":\"player_field_goal_attempts\",\"fgm\":\"player_field_goal_made\",\"ft_pct\":\"player_free_throw_percentage\",\"fta\":\"player_free_throws_attempted\",\"ftm\":\"player_free_throws_made\",\"min\":\"minute_in_game\",\"oreb\":\"player_offensive_rebounds\",\"pf\":\"player_fouls\",\"pts\":\"player_points\",\"reb\":\"player_rebounds\",\"stl\":\"player_steals\",\"team_id\":\"player_team_id_real\",\"id\":\"game_id\"}, inplace = True)"
      ],
      "metadata": {
        "id": "UlLMxrM7Bw_h"
      },
      "execution_count": null,
      "outputs": []
    },
    {
      "cell_type": "code",
      "source": [
        "from datetime import datetime\n",
        "mergedDF_nba['game date']= pd.to_datetime(mergedDF_nba['game date']).dt.tz_localize(None)\n",
        "date_time_lim = datetime.strptime('2021-10-19 00:00:00', '%Y-%m-%d %H:%M:%S')\n",
        "nba_data_2021 = mergedDF_nba[(mergedDF_nba['game date']>=date_time_lim)]\n",
        "nba_data_2020 = mergedDF_nba[(mergedDF_nba['game season']==2020)]"
      ],
      "metadata": {
        "id": "0JlkWoELDAhJ"
      },
      "execution_count": null,
      "outputs": []
    },
    {
      "cell_type": "code",
      "source": [
        "nba_data_2020.sort_values(by = \"game date\")\n",
        "nba_data_2020[\"game date\"]"
      ],
      "metadata": {
        "colab": {
          "base_uri": "https://localhost:8080/"
        },
        "id": "2hu0S5wdDVRy",
        "outputId": "5e3071c7-faeb-4e15-aa51-9611155d114f"
      },
      "execution_count": null,
      "outputs": [
        {
          "output_type": "execute_result",
          "data": {
            "text/plain": [
              "41   2020-12-22\n",
              "42   2020-12-22\n",
              "43   2020-12-22\n",
              "44   2020-12-22\n",
              "45   2020-12-22\n",
              "        ...    \n",
              "95   2021-07-20\n",
              "96   2021-07-20\n",
              "97   2021-07-20\n",
              "17   2021-07-20\n",
              "18   2021-07-20\n",
              "Name: game date, Length: 31657, dtype: datetime64[ns]"
            ]
          },
          "metadata": {},
          "execution_count": 16
        }
      ]
    },
    {
      "cell_type": "code",
      "source": [
        "nba_data_2020.columns"
      ],
      "metadata": {
        "colab": {
          "base_uri": "https://localhost:8080/"
        },
        "id": "7H9QhxqoEuIX",
        "outputId": "f3af08a3-daa5-4bdc-b6e1-d88f2dddf214"
      },
      "execution_count": null,
      "outputs": [
        {
          "output_type": "execute_result",
          "data": {
            "text/plain": [
              "Index(['game_id', 'player_assists', 'player_blocks',\n",
              "       'player_defensive_rebounds', 'player_field_three_pointer_percentage',\n",
              "       'player_field_three_pointers_attempted',\n",
              "       'player_field_three_pointers_made', 'player_field_goals_percentage',\n",
              "       'player_field_goal_attempts', 'player_field_goal_made',\n",
              "       'player_free_throw_percentage', 'player_free_throws_attempted',\n",
              "       'player_free_throws_made', 'minute_in_game',\n",
              "       'player_offensive_rebounds', 'player_fouls', 'player_points',\n",
              "       'player_rebounds', 'player_steals', 'turnover', 'game id', 'game date',\n",
              "       'game home_team_id', 'game home_team_score', 'game period',\n",
              "       'game postseason', 'game season', 'game status', 'game time',\n",
              "       'game visitor_team_id', 'game visitor_team_score', 'player id',\n",
              "       'player first_name', 'player height_feet', 'player height_inches',\n",
              "       'player last_name', 'player position', 'player team_id',\n",
              "       'player weight_pounds', 'team id', 'team abbreviation', 'team city',\n",
              "       'team conference', 'team division', 'team full_name', 'team name',\n",
              "       'player'],\n",
              "      dtype='object')"
            ]
          },
          "metadata": {},
          "execution_count": 31
        }
      ]
    },
    {
      "cell_type": "code",
      "source": [
        "# !pip install fsspec\n",
        "\n",
        "\n",
        "nba_data_2020.to_csv('C://Users/97254/OneDrive/שולחן העבודה/nba/nba_data.csv', index = False)\n",
        "files.download('C://Users/97254/OneDrive/שולחן העבודה/nba/nba_data.csv')"
      ],
      "metadata": {
        "colab": {
          "base_uri": "https://localhost:8080/",
          "height": 17
        },
        "id": "giIt9be5FR7X",
        "outputId": "ed766a45-8b61-4c72-8816-6c80fbfe90b1"
      },
      "execution_count": null,
      "outputs": [
        {
          "output_type": "display_data",
          "data": {
            "text/plain": [
              "<IPython.core.display.Javascript object>"
            ],
            "application/javascript": [
              "\n",
              "    async function download(id, filename, size) {\n",
              "      if (!google.colab.kernel.accessAllowed) {\n",
              "        return;\n",
              "      }\n",
              "      const div = document.createElement('div');\n",
              "      const label = document.createElement('label');\n",
              "      label.textContent = `Downloading \"${filename}\": `;\n",
              "      div.appendChild(label);\n",
              "      const progress = document.createElement('progress');\n",
              "      progress.max = size;\n",
              "      div.appendChild(progress);\n",
              "      document.body.appendChild(div);\n",
              "\n",
              "      const buffers = [];\n",
              "      let downloaded = 0;\n",
              "\n",
              "      const channel = await google.colab.kernel.comms.open(id);\n",
              "      // Send a message to notify the kernel that we're ready.\n",
              "      channel.send({})\n",
              "\n",
              "      for await (const message of channel.messages) {\n",
              "        // Send a message to notify the kernel that we're ready.\n",
              "        channel.send({})\n",
              "        if (message.buffers) {\n",
              "          for (const buffer of message.buffers) {\n",
              "            buffers.push(buffer);\n",
              "            downloaded += buffer.byteLength;\n",
              "            progress.value = downloaded;\n",
              "          }\n",
              "        }\n",
              "      }\n",
              "      const blob = new Blob(buffers, {type: 'application/binary'});\n",
              "      const a = document.createElement('a');\n",
              "      a.href = window.URL.createObjectURL(blob);\n",
              "      a.download = filename;\n",
              "      div.appendChild(a);\n",
              "      a.click();\n",
              "      div.remove();\n",
              "    }\n",
              "  "
            ]
          },
          "metadata": {}
        },
        {
          "output_type": "display_data",
          "data": {
            "text/plain": [
              "<IPython.core.display.Javascript object>"
            ],
            "application/javascript": [
              "download(\"download_97e76bca-3d9c-457a-b762-7f61f93d84ee\", \"nba_data.csv\", 6415475)"
            ]
          },
          "metadata": {}
        }
      ]
    }
  ]
}